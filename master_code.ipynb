{
 "cells": [
  {
   "cell_type": "markdown",
   "metadata": {},
   "source": [
    "# How Different Factors Affect Projectile Motion"
   ]
  },
  {
   "cell_type": "markdown",
   "metadata": {},
   "source": [
    "RJ Okonowski & Josh Harris"
   ]
  },
  {
   "cell_type": "markdown",
   "metadata": {},
   "source": [
    "## Table of Contents\n",
    "\n",
    "* [Introduction](#intro)\n",
    "* [Model](#model)\n",
    "* [Numerical Methods](#num)\n"
   ]
  },
  {
   "cell_type": "markdown",
   "metadata": {},
   "source": [
    "## Introduction (in progress) <a id='intro'></a>"
   ]
  },
  {
   "cell_type": "markdown",
   "metadata": {},
   "source": [
    "Projectile motion is a form of motion experienced by a projectile that is thrown or hit near the Earth's surface and moves along a curved path under the action of gravity only, creating a curved path known as a parabola. There are many different factors that can affect the projectile motion of an object, such as the launch angle, the launch force, the air drag, the elevation, and the shape of the ball. \n",
    "\n",
    "The launch angle and launch force will affect the angle and initial velocity of the projectile. This can change the time of flight and the range of the projectile, causing different projectile motions when these factors are changed. Air drag is the force of wind or air resistance pushing in the opposite or same direction to the motion of the object, creating a headwind or tailwind. This is very important when trying to create a realistic model of a projectile object moving through the air since air drag has a very large affect on the projectile motion of a projectile.  "
   ]
  },
  {
   "cell_type": "markdown",
   "metadata": {},
   "source": [
    "## Model (in progress) <a id='model'></a>"
   ]
  },
  {
   "cell_type": "markdown",
   "metadata": {},
   "source": []
  },
  {
   "cell_type": "markdown",
   "metadata": {},
   "source": [
    "## Numerical Methods (in progress) <a id='num'></a>"
   ]
  },
  {
   "cell_type": "markdown",
   "metadata": {},
   "source": []
  }
 ],
 "metadata": {
  "kernelspec": {
   "display_name": "Python 3",
   "language": "python",
   "name": "python3"
  },
  "language_info": {
   "codemirror_mode": {
    "name": "ipython",
    "version": 3
   },
   "file_extension": ".py",
   "mimetype": "text/x-python",
   "name": "python",
   "nbconvert_exporter": "python",
   "pygments_lexer": "ipython3",
   "version": "3.7.4"
  }
 },
 "nbformat": 4,
 "nbformat_minor": 2
}
