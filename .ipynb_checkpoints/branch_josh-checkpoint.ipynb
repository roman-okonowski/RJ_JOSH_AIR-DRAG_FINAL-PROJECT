{
 "cells": [
  {
   "cell_type": "markdown",
   "metadata": {},
   "source": [
    "# Josh's Branch"
   ]
  },
  {
   "cell_type": "code",
   "execution_count": 1,
   "metadata": {},
   "outputs": [],
   "source": [
    "\n",
    "import math\n",
    "import numpy as np\n",
    "import matplotlib.pylab as plt\n",
    "%matplotlib inline"
   ]
  },
  {
   "cell_type": "code",
   "execution_count": 2,
   "metadata": {},
   "outputs": [
    {
     "ename": "SyntaxError",
     "evalue": "invalid syntax (<ipython-input-2-62e03057f943>, line 25)",
     "output_type": "error",
     "traceback": [
      "\u001b[1;36m  File \u001b[1;32m\"<ipython-input-2-62e03057f943>\"\u001b[1;36m, line \u001b[1;32m25\u001b[0m\n\u001b[1;33m    y=y0+v*sin(angle)*t-(g*t.^2)/2\u001b[0m\n\u001b[1;37m                             ^\u001b[0m\n\u001b[1;31mSyntaxError\u001b[0m\u001b[1;31m:\u001b[0m invalid syntax\n"
     ]
    }
   ],
   "source": [
    "#Physical Constants\n",
    "g = 9.8\n",
    "m = 1.0\n",
    "\n",
    "#Initial conditions\n",
    "X0 = 1.0\n",
    "Y0 = 0.0\n",
    "theta = 45\n",
    "Vx0 = 70.0*(np.cos(theta))\n",
    "Vy0 = 80.0*(np.sin(theta))\n",
    "\n",
    "# Time steps\n",
    "steps = 1000\n",
    "t_HIT = 2.0*Vy0/g\n",
    "dt = t_HIT / steps\n",
    "\n",
    "X_ND = list()\n",
    "Y_ND = list()\n",
    "\n",
    "#s = uv2/(2g) = (uSin Θ)2/(2g))\n",
    "for i in np.arange(steps + 1):\n",
    "    X_ND.append(X0 + Vx0 * dt * i)\n",
    "    Y_ND.append(Y0 + Vy0 * dt * i - 0.5 * g * pow(dt * i,2.0))\n",
    "\n",
    "    y=y0+v*sin(angle)*t-(g*t.^2)/2\n",
    "# Plot results\n",
    "fig = plt.figure(figsize=(7,7))\n",
    "ax = fig.add_subplot(111)\n",
    "\n",
    "#plot the function\n",
    "ax.plot(X_ND,Y_ND)\n",
    "ax.set_ylim(0,400)\n",
    "ax.set_xlim(0,1200)\n",
    "ax.set_title(\"Projectile Motion with No Air Drag\")\n",
    "ax.set_xlabel('x')\n",
    "ax.set_ylabel('Y')"
   ]
  },
  {
   "cell_type": "code",
   "execution_count": 7,
   "metadata": {},
   "outputs": [
    {
     "ename": "OverflowError",
     "evalue": "(34, 'Result too large')",
     "output_type": "error",
     "traceback": [
      "\u001b[1;31m---------------------------------------------------------------------------\u001b[0m",
      "\u001b[1;31mOverflowError\u001b[0m                             Traceback (most recent call last)",
      "\u001b[1;32m<ipython-input-7-bfedffa44313>\u001b[0m in \u001b[0;36m<module>\u001b[1;34m\u001b[0m\n\u001b[0;32m     41\u001b[0m     \u001b[0mx5\u001b[0m\u001b[1;33m[\u001b[0m\u001b[0mi\u001b[0m\u001b[1;33m]\u001b[0m \u001b[1;33m=\u001b[0m \u001b[0mx5\u001b[0m\u001b[1;33m[\u001b[0m\u001b[0mi\u001b[0m\u001b[1;33m-\u001b[0m\u001b[1;36m1\u001b[0m\u001b[1;33m]\u001b[0m \u001b[1;33m+\u001b[0m \u001b[0mvx5\u001b[0m \u001b[1;33m*\u001b[0m \u001b[0mdt\u001b[0m\u001b[1;33m\u001b[0m\u001b[1;33m\u001b[0m\u001b[0m\n\u001b[0;32m     42\u001b[0m     \u001b[0my5\u001b[0m\u001b[1;33m[\u001b[0m\u001b[0mi\u001b[0m\u001b[1;33m]\u001b[0m \u001b[1;33m=\u001b[0m \u001b[0my5\u001b[0m\u001b[1;33m[\u001b[0m\u001b[0mi\u001b[0m\u001b[1;33m-\u001b[0m\u001b[1;36m1\u001b[0m\u001b[1;33m]\u001b[0m \u001b[1;33m+\u001b[0m \u001b[0mvy5\u001b[0m \u001b[1;33m*\u001b[0m \u001b[0mdt\u001b[0m\u001b[1;33m\u001b[0m\u001b[1;33m\u001b[0m\u001b[0m\n\u001b[1;32m---> 43\u001b[1;33m     \u001b[0mf1\u001b[0m \u001b[1;33m=\u001b[0m \u001b[0mmath\u001b[0m\u001b[1;33m.\u001b[0m\u001b[0msqrt\u001b[0m\u001b[1;33m(\u001b[0m\u001b[0mvx1\u001b[0m \u001b[1;33m**\u001b[0m \u001b[1;36m2\u001b[0m \u001b[1;33m+\u001b[0m \u001b[0mvy1\u001b[0m \u001b[1;33m**\u001b[0m \u001b[1;36m2\u001b[0m\u001b[1;33m)\u001b[0m\u001b[1;33m\u001b[0m\u001b[1;33m\u001b[0m\u001b[0m\n\u001b[0m\u001b[0;32m     44\u001b[0m     \u001b[0mf2\u001b[0m \u001b[1;33m=\u001b[0m \u001b[0mmath\u001b[0m\u001b[1;33m.\u001b[0m\u001b[0msqrt\u001b[0m\u001b[1;33m(\u001b[0m\u001b[0mvx2\u001b[0m \u001b[1;33m**\u001b[0m \u001b[1;36m2\u001b[0m \u001b[1;33m+\u001b[0m \u001b[0mvy2\u001b[0m \u001b[1;33m**\u001b[0m \u001b[1;36m2\u001b[0m\u001b[1;33m)\u001b[0m\u001b[1;33m\u001b[0m\u001b[1;33m\u001b[0m\u001b[0m\n\u001b[0;32m     45\u001b[0m     \u001b[0mf3\u001b[0m \u001b[1;33m=\u001b[0m \u001b[0mmath\u001b[0m\u001b[1;33m.\u001b[0m\u001b[0msqrt\u001b[0m\u001b[1;33m(\u001b[0m\u001b[0mvx3\u001b[0m \u001b[1;33m**\u001b[0m \u001b[1;36m2\u001b[0m \u001b[1;33m+\u001b[0m \u001b[0mvy3\u001b[0m \u001b[1;33m**\u001b[0m \u001b[1;36m2\u001b[0m\u001b[1;33m)\u001b[0m\u001b[1;33m\u001b[0m\u001b[1;33m\u001b[0m\u001b[0m\n",
      "\u001b[1;31mOverflowError\u001b[0m: (34, 'Result too large')"
     ]
    }
   ],
   "source": [
    "dt = 0.25\n",
    "v_init = 700\n",
    "theta1 = (55 / 180) * math.pi\n",
    "theta2 = (50 / 180) * math.pi\n",
    "theta3 = (45 / 180) * math.pi\n",
    "theta4 = (40 / 180) * math.pi\n",
    "theta5 = (35 / 180) * math.pi\n",
    "\n",
    "x1 = np.zeros(5000)\n",
    "y1 = np.zeros(5000)\n",
    "x2 = np.zeros(5000)\n",
    "y2 = np.zeros(5000)\n",
    "x3 = np.zeros(5000)\n",
    "y3 = np.zeros(5000)\n",
    "x4 = np.zeros(5000)\n",
    "y4 = np.zeros(5000)\n",
    "x5 = np.zeros(5000)\n",
    "y5 = np.zeros(5000)\n",
    "\n",
    "vx1 = v_init * math.cos(theta1)\n",
    "vy1 = v_init * math.sin(theta1)\n",
    "vx2 = v_init * math.cos(theta2)\n",
    "vy2 = v_init * math.sin(theta2)\n",
    "vx3 = v_init * math.cos(theta3)\n",
    "vy3 = v_init * math.sin(theta3)\n",
    "vx4 = v_init * math.cos(theta4)\n",
    "vy4 = v_init * math.sin(theta4)\n",
    "vx5 = v_init * math.cos(theta5)\n",
    "vy5 = v_init * math.sin(theta5)\n",
    "nmax = len(x1)\n",
    "\n",
    "for i in range(1, nmax):\n",
    "    x1[i] = x1[i-1] + vx1 * dt\n",
    "    y1[i] = y1[i-1] + vy1 * dt\n",
    "    x2[i] = x2[i-1] + vx2 * dt\n",
    "    y2[i] = y2[i-1] + vy2 * dt\n",
    "    x3[i] = x3[i-1] + vx3 * dt\n",
    "    y3[i] = y3[i-1] + vy3 * dt\n",
    "    x4[i] = x4[i-1] + vx4 * dt\n",
    "    y4[i] = y4[i-1] + vy4 * dt\n",
    "    x5[i] = x5[i-1] + vx5 * dt\n",
    "    y5[i] = y5[i-1] + vy5 * dt\n",
    "    f1 = math.sqrt(vx1 ** 2 + vy1 ** 2)\n",
    "    f2 = math.sqrt(vx2 ** 2 + vy2 ** 2)\n",
    "    f3 = math.sqrt(vx3 ** 2 + vy3 ** 2)\n",
    "    f4 = math.sqrt(vx4 ** 2 + vy4 ** 2)\n",
    "    f5 = math.sqrt(vx5 ** 2 + vy5 ** 2)\n",
    "    vy1 = vy1 - 9.8 * dt - f1 * vy1 * dt\n",
    "    vx1 = vx1 - f1 *vx1 * dt\n",
    "    vy2 = vy2 - 9.8 * dt - f2 * vy2 * dt\n",
    "    vx2 = vx2 - f2 *vx2 * dt\n",
    "    vy3 = vy3 - 9.8 * dt - f3 * vy3 * dt\n",
    "    vx3 = vx3 - f3 *vx3 * dt\n",
    "    vy4 = vy4 - 9.8 * dt - f4 * vy4 * dt\n",
    "    vx4 = vx4 - f4 *vx4 * dt\n",
    "    vy5 = vy5 - 9.8 * dt - f5 * vy5 * dt\n",
    "    vx5 = vx5 - f5 *vx5 * dt\n",
    "        \n",
    "#Creates the plot\n",
    "ax = plt.subplot(111)\n",
    "\n",
    "#Plots the data and sets the axes\n",
    "ax.plot(x1, y1, \"b\", label=\"Theta = 55 degrees\")\n",
    "ax.plot(x2, y2, \"g\", label=\"Theta = 50 degrees\")\n",
    "ax.plot(x3, y3, \"r\", label=\"Theta = 45 degrees\")\n",
    "ax.plot(x4, y4, \"y\", label=\"Theta = 40 degrees\")\n",
    "ax.plot(x5, y5, \"k\", label=\"Theta = 35 degrees\")\n",
    "ax.set_title(\"Projectile Motion without Air Resistance\")\n",
    "ax.set_xlabel(\"X Position (m)\")\n",
    "ax.set_ylabel(\"Y Position (m)\")\n",
    "ax.set_ylim(0, 10500)\n",
    "ax.set_xlim(0, 22500)\n",
    "ax.legend()\n",
    "\n",
    "#Shows the plot\n",
    "plt.show()"
   ]
  },
  {
   "cell_type": "code",
   "execution_count": null,
   "metadata": {},
   "outputs": [],
   "source": []
  }
 ],
 "metadata": {
  "kernelspec": {
   "display_name": "Python 3",
   "language": "python",
   "name": "python3"
  },
  "language_info": {
   "codemirror_mode": {
    "name": "ipython",
    "version": 3
   },
   "file_extension": ".py",
   "mimetype": "text/x-python",
   "name": "python",
   "nbconvert_exporter": "python",
   "pygments_lexer": "ipython3",
   "version": "3.7.4"
  }
 },
 "nbformat": 4,
 "nbformat_minor": 4
}
