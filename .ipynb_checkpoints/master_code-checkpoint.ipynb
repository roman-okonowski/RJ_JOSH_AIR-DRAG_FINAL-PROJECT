{
 "cells": [
  {
   "cell_type": "markdown",
   "metadata": {},
   "source": [
    "# How Different Factors Affect Projectile Motion"
   ]
  },
  {
   "cell_type": "markdown",
   "metadata": {},
   "source": [
    "RJ Okonowski & Josh Harris"
   ]
  },
  {
   "cell_type": "markdown",
   "metadata": {},
   "source": [
    "## Table of Contents\n",
    "\n",
    "* [Introduction](#intro)\n",
    "* [Model](#model)\n",
    "* [Numerical Methods](#num)\n",
    "* [Results](#res)\n",
    "* [Analysis](#anal)\n",
    "* [Summary](#sum)\n",
    "* [References](#ref)\n"
   ]
  },
  {
   "cell_type": "markdown",
   "metadata": {},
   "source": [
    "## Introduction (in progress) <a id='intro'></a>"
   ]
  },
  {
   "cell_type": "markdown",
   "metadata": {},
   "source": [
    "Projectile motion is a form of motion experienced by a projectile that is thrown or hit near the Earth's surface and moves along a curved path under the action of gravity only, creating a curved path known as a parabola. There are many different factors that can affect the projectile motion of an object, such as the launch angle, the launch force, the air drag, and the elevation. \n",
    "\n",
    "The launch angle and launch force will affect the angle and initial velocity of the projectile. This can change the time of flight and the range of the projectile, causing different projectile motions when these factors are changed. Air drag is the force of wind or air resistance pushing in the opposite or same direction to the motion of the object, creating a headwind or tailwind. This is very important when trying to create a realistic model of a projectile object moving through the air since air drag has a very large affect on the projectile motion of an object. The elevation can affect the projectile motion due to the changes in air density. As the elevation inceases, the air density will decrease, causing a different air resistance that will change the behaviors of the projectile object. \n",
    "\n"
   ]
  },
  {
   "cell_type": "markdown",
   "metadata": {},
   "source": [
    "![xkcd](Drag.jpg)"
   ]
  },
  {
   "cell_type": "markdown",
   "metadata": {},
   "source": []
  },
  {
   "cell_type": "markdown",
   "metadata": {},
   "source": [
    "https://www.nbclearn.com/science-of-nfl-football/cuecard/50689"
   ]
  },
  {
   "cell_type": "markdown",
   "metadata": {},
   "source": [
    "## Model (in progress) <a id='model'></a>"
   ]
  },
  {
   "cell_type": "markdown",
   "metadata": {},
   "source": []
  },
  {
   "cell_type": "markdown",
   "metadata": {},
   "source": [
    "## Numerical Methods (in progress) <a id='num'></a>"
   ]
  },
  {
   "cell_type": "markdown",
   "metadata": {},
   "source": []
  },
  {
   "cell_type": "code",
   "execution_count": 1,
   "metadata": {},
   "outputs": [],
   "source": [
    "import matplotlib.pyplot as plt\n",
    "import numpy as np\n",
    "import math\n",
    "import pylab"
   ]
  },
  {
   "cell_type": "code",
   "execution_count": null,
   "metadata": {},
   "outputs": [],
   "source": []
  },
  {
   "cell_type": "markdown",
   "metadata": {},
   "source": [
    "## Results <a id='res'></a>"
   ]
  },
  {
   "cell_type": "markdown",
   "metadata": {},
   "source": []
  },
  {
   "cell_type": "markdown",
   "metadata": {},
   "source": [
    "## Analysis <a id='anal'></a>"
   ]
  },
  {
   "cell_type": "markdown",
   "metadata": {},
   "source": []
  },
  {
   "cell_type": "markdown",
   "metadata": {},
   "source": [
    "## Summary <a id='sum'></a>"
   ]
  },
  {
   "cell_type": "markdown",
   "metadata": {},
   "source": []
  },
  {
   "cell_type": "markdown",
   "metadata": {},
   "source": [
    "## References <a id='ref'></a>"
   ]
  },
  {
   "cell_type": "markdown",
   "metadata": {},
   "source": [
    "[1] Giordano, Nicholas J. Computational Physics. Prentice-Hall, Inc., 1997. p. 23-28\n",
    "\n",
    "[2] H. Fearn, and C. Horn. On the Flight of the Ameican Football. Unpublished, 2007, pp. 1–22, On the Flight of the Ameican Football.\n",
    "\n",
    "[3] Newman, Mark. Computational Physics. Createspace, 2013.\n",
    "\n",
    "[4] NBC. “Science of NFL Football: Projectile Motion &amp; Parabolas.” NBC Learn, 7 Sept. 2010, www.nbclearn.com/science-of-nfl-football/cuecard/50689."
   ]
  },
  {
   "cell_type": "code",
   "execution_count": null,
   "metadata": {},
   "outputs": [],
   "source": []
  }
 ],
 "metadata": {
  "kernelspec": {
   "display_name": "Python 3",
   "language": "python",
   "name": "python3"
  },
  "language_info": {
   "codemirror_mode": {
    "name": "ipython",
    "version": 3
   },
   "file_extension": ".py",
   "mimetype": "text/x-python",
   "name": "python",
   "nbconvert_exporter": "python",
   "pygments_lexer": "ipython3",
   "version": "3.7.4"
  }
 },
 "nbformat": 4,
 "nbformat_minor": 2
}
