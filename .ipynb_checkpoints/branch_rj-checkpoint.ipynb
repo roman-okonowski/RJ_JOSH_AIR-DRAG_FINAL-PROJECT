{
 "cells": [
  {
   "cell_type": "markdown",
   "metadata": {},
   "source": [
    "# RJ's Branch"
   ]
  },
  {
   "cell_type": "markdown",
   "metadata": {},
   "source": [
    "The following code solves the equations of motion with air drag. With drag force $-\\alpha |\\dot{r}|\\dot{r}$ and gravitational force $-mg\\hat{y}$, these equations of motion are:\n",
    "\n",
    "$\\ddot{x}=-\\beta \\dot{x}\\sqrt{{\\dot{x}^2}+{\\dot{y}^2}}$\n",
    "\n",
    "$\\ddot{y}=-g-\\beta \\dot{y}\\sqrt{{\\dot{x}^2}+{\\dot{y}^2}}$\n",
    "\n",
    "where $\\beta = \\frac{\\alpha}{m}$, $\\alpha =\\frac{\\rho C_{d}A}{2}$, $\\rho$ is the air desnisty, $C_{d}$ is the drag coefficient, and $A$ is the cross-sectional area of the projectile."
   ]
  },
  {
   "cell_type": "code",
   "execution_count": 2,
   "metadata": {},
   "outputs": [],
   "source": [
    "import matplotlib.pyplot as plt\n",
    "import numpy as np\n",
    "import math\n",
    "import pylab"
   ]
  },
  {
   "cell_type": "code",
   "execution_count": 9,
   "metadata": {},
   "outputs": [
    {
     "data": {
      "image/png": "[encoded data removed]",
      "text/plain": [
       "<Figure size 432x288 with 1 Axes>"
      ]
     },
     "metadata": {
      "needs_background": "light"
     },
     "output_type": "display_data"
    }
   ],
   "source": [
    "#Initialize physical constants\n",
    "g = 9.8 #m/s^2\n",
    "m = 1.0 #kg\n",
    "rho = 1.0 #kg/m^3\n",
    "Cd = 1.0 #constant\n",
    "A = math.pi * pow(0.01,2.0) #m^2\n",
    "alpha = rho * Cd * A / 2.0\n",
    "beta = alpha / m\n",
    "\n",
    "#Initial conditions\n",
    "X0 = 1.0\n",
    "Y0 = 0.0\n",
    "Vx0 = 70.0\n",
    "Vy0 = 80.0\n",
    "\n",
    "#Time steps\n",
    "steps = 1000\n",
    "t_HIT = 2.0 * Vy0 / g\n",
    "dt = t_HIT / steps\n",
    "\n",
    "#With drag\n",
    "X_WD = []\n",
    "Y_WD = []\n",
    "Vx_WD = []\n",
    "Vy_WD = []\n",
    "\n",
    "#Add initial conditions\n",
    "X_WD.append(X0)\n",
    "Y_WD.append(Y0)\n",
    "Vx_WD.append(Vx0)\n",
    "Vy_WD.append(Vy0)\n",
    "\n",
    "#Break point\n",
    "check = 0\n",
    "\n",
    "#Calculates for every step\n",
    "for i in range(1,steps+1):\n",
    "    if check != 1:\n",
    "        speed = pow(pow(Vx_WD[i-1],2.0)+pow(Vy_WD[i-1],2.0),0.5)\n",
    "\n",
    "        #First calculate velocity\n",
    "        Vx_WD.append(Vx_WD[i-1] * (1.0 - beta * speed * dt))\n",
    "        Vy_WD.append(Vy_WD[i-1] + ( - g - beta * Vy_WD[i-1] * speed) * dt)\n",
    "\n",
    "        #Now calculate position\n",
    "        X_WD.append(X_WD[i-1] + Vx_WD[i-1] * dt)\n",
    "        Y_WD.append(Y_WD[i-1] + Vy_WD[i-1] * dt)\n",
    "\n",
    "        #Stop if hits ground\n",
    "        if Y_WD[i] <= 0.0:\n",
    "            check = 1\n",
    "            \n",
    "#Creates the plot\n",
    "ax = plt.subplot(111)\n",
    "\n",
    "#Plots the data and sets the axes\n",
    "ax.plot(X_WD, Y_WD)\n",
    "ax.set_title(\"Projectile Motion with Air Resistance\")\n",
    "ax.set_xlabel(\"X Position\")\n",
    "ax.set_ylabel(\"Y Position\")\n",
    "ax.set_ylim(0, 350)\n",
    "ax.set_xlim(0, 1000)\n",
    "\n",
    "#Shows the plot\n",
    "plt.show()"
   ]
  },
  {
   "cell_type": "markdown",
   "metadata": {},
   "source": [
    "The above plot shows the projectile motion including air drag."
   ]
  },
  {
   "cell_type": "code",
   "execution_count": null,
   "metadata": {},
   "outputs": [],
   "source": []
  }
 ],
 "metadata": {
  "kernelspec": {
   "display_name": "Python 3",
   "language": "python",
   "name": "python3"
  },
  "language_info": {
   "codemirror_mode": {
    "name": "ipython",
    "version": 3
   },
   "file_extension": ".py",
   "mimetype": "text/x-python",
   "name": "python",
   "nbconvert_exporter": "python",
   "pygments_lexer": "ipython3",
   "version": "3.7.4"
  }
 },
 "nbformat": 4,
 "nbformat_minor": 2
}
